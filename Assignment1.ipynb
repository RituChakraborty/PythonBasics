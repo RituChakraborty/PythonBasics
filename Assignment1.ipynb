{
 "cells": [
  {
   "cell_type": "code",
   "execution_count": 1,
   "id": "e2a0a3bc-e5d0-4cbe-bf22-6e12e6230efd",
   "metadata": {},
   "outputs": [],
   "source": [
    "import numpy as np\n",
    "import pandas as pd\n",
    "import scipy.stats as stats"
   ]
  },
  {
   "cell_type": "code",
   "execution_count": 2,
   "id": "12ff060e-20db-437e-8815-c6cc49fdc446",
   "metadata": {},
   "outputs": [
    {
     "name": "stdout",
     "output_type": "stream",
     "text": [
      "Mean: 20.0\n",
      "Median: 20\n",
      "Standard Deviation: 7.0710678118654755\n"
     ]
    }
   ],
   "source": [
    "#Question 6:\n",
    "\n",
    "data=[10, 15, 20, 25, 30]\n",
    "\n",
    "data_mean=sum(data) / len (data)\n",
    "\n",
    "data_median= 20\n",
    "\n",
    "\n",
    "data_squared_diff=list(map(lambda a: (a-data_mean)**2, data))\n",
    "data_variance= sum(data_squared_diff) /len (data)\n",
    "\n",
    "data_std_deviation=np.sqrt(data_variance)\n",
    "\n",
    "print(\"Mean:\", data_mean)\n",
    "print(\"Median:\",data_median)\n",
    "print(\"Standard Deviation:\", data_std_deviation)\n",
    "\n",
    "\n",
    "#Mean: 20.0\n",
    "#Median: 20\n",
    "#Standard Deviation: 7.0710678118654755\n"
   ]
  },
  {
   "cell_type": "code",
   "execution_count": 3,
   "id": "a7134b3a-9d51-4f58-9a57-46124b9f619f",
   "metadata": {},
   "outputs": [
    {
     "name": "stdout",
     "output_type": "stream",
     "text": [
      "1.6765508919142629\n",
      "[64.28869969719385, 65.71130030280615]\n"
     ]
    }
   ],
   "source": [
    "#Question 7:\n",
    "\n",
    "sample_mean=65\n",
    "sample_std_dev=3\n",
    "sample_size=50\n",
    "conf_prob=0.95\n",
    "alpha=1-conf_prob # alpha=0.05\n",
    "\n",
    "t_score=stats.t.ppf(conf_prob,df=49)\n",
    "print(t_score) #t_score: 1.6765508919142629\n",
    "\n",
    "population_mean_interval=[sample_mean-(t_score*(sample_std_dev/np.sqrt(sample_size))), sample_mean+(t_score*(sample_std_dev/np.sqrt(sample_size)))]\n",
    "\n",
    "print(population_mean_interval) #CI: [64.28869969719385, 65.71130030280615]"
   ]
  },
  {
   "cell_type": "code",
   "execution_count": 4,
   "id": "7c3ef7ce-b086-4bc4-830a-7ad64977995a",
   "metadata": {},
   "outputs": [
    {
     "name": "stdout",
     "output_type": "stream",
     "text": [
      "t_score -2.8284271247461903\n",
      "t-critical 1.6765508919142629\n",
      "p-value 0.9966207295236175\n"
     ]
    }
   ],
   "source": [
    "# Question 8:\n",
    "\n",
    "# Null hypothesis(Ho): mean of lifespan of light bulb =1000\n",
    "# Alternate Hypothesis (Ha): mean of lifespan of light bulb >1000 ( as mentioned right tailed test)\n",
    "\n",
    "claim_population_mean=1000\n",
    "sample_mean=980\n",
    "sample_std_dev=50\n",
    "sample_size=50\n",
    "alpha=1-0.95 # alpha=0.05\n",
    "\n",
    "t_score= (sample_mean-claim_population_mean)/(sample_std_dev/np.sqrt(sample_size))\n",
    "print(\"t_score\",t_score) # t_score: -2.8284271247461903\n",
    "\n",
    "t_critical_upper= stats.t.ppf(0.95, df=49) # as mentioned its a right tailed test hence considering upper t-critical value\n",
    "print(\"t-critical\",t_critical_upper) #t-critical: 1.6765508919142629\n",
    "\n",
    "# as t_score is -ve and it is a right tailed test\n",
    "p_left= stats.t.cdf(t_score, df=49) #p-left:  0.0033792704763825248\n",
    "p_right=1-p_left\n",
    "print(\"p-value\",p_right) #p-value: 0.9966207295236175\n",
    "\n",
    "\n",
    "#as p>alpha and t_score < t_critical_upper\n",
    "#hence we  FAIL TO REJECT the null hypothesis; so there is evidence that average lifespan of light bulb is 1000 hrs"
   ]
  },
  {
   "cell_type": "code",
   "execution_count": 5,
   "id": "39c1a6f8-c028-4f05-afe1-eae5eb865eb6",
   "metadata": {},
   "outputs": [],
   "source": [
    "#Question 9:\n",
    "# Null Hypothesis (Ho): new drug=lowers blood sugar\n",
    "# Alternate Hypothesis (Ha): new drug!= lowers blood sugar\n"
   ]
  },
  {
   "cell_type": "code",
   "execution_count": 6,
   "id": "b895fda4-c4ec-4ec2-ac59-c811c30c230c",
   "metadata": {},
   "outputs": [
    {
     "name": "stdout",
     "output_type": "stream",
     "text": [
      "t_score -3.5355339059327378\n",
      "t-critical 1.6765508919142629\n",
      "p-value 0.00045000148347440683\n"
     ]
    }
   ],
   "source": [
    "#Question 10:\n",
    "\n",
    "# Null Hypothesis (Ho): mean weight of products=500\n",
    "# Alternate Hypothesis (Ha): mean weight of products < 500 ( as mentioned left tailed test)\n",
    "\n",
    "claim_population_mean=500\n",
    "sample_mean=495\n",
    "sample_std_dev=10\n",
    "sample_size=50\n",
    "alpha=0.01\n",
    "\n",
    "t_score= (sample_mean-claim_population_mean)/(sample_std_dev/np.sqrt(sample_size))\n",
    "print(\"t_score\",t_score) #t_score: -3.5355339059327378\n",
    "\n",
    "t_critical_lower=  stats.t.ppf(0.01, df=49) # as mentioned its a left tailed test hence considering lower t-critical value\n",
    "print(\"t-critical\",t_critical_upper) #t-critical: 1.6765508919142629\n",
    "\n",
    "# as t_score is -ve and it is a left tailed test\n",
    "p_left= stats.t.cdf(t_score, df=49) #p-value: 0.00045000148347440683\n",
    "print(\"p-value\",p_left)\n",
    "\n",
    "#as p_left<alpha  and t_score < (-ve)t_critical_lower\n",
    "#hence we  REJECT the null hypothesis; so there is evidence that average weight of products can be less than 500 gms\n"
   ]
  },
  {
   "cell_type": "code",
   "execution_count": null,
   "id": "62fe443f-f970-4255-97b1-5ce522fcb7ba",
   "metadata": {},
   "outputs": [],
   "source": []
  }
 ],
 "metadata": {
  "kernelspec": {
   "display_name": "Python 3 (ipykernel)",
   "language": "python",
   "name": "python3"
  },
  "language_info": {
   "codemirror_mode": {
    "name": "ipython",
    "version": 3
   },
   "file_extension": ".py",
   "mimetype": "text/x-python",
   "name": "python",
   "nbconvert_exporter": "python",
   "pygments_lexer": "ipython3",
   "version": "3.10.12"
  }
 },
 "nbformat": 4,
 "nbformat_minor": 5
}
